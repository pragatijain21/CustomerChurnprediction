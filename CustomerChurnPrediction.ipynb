{
  "nbformat": 4,
  "nbformat_minor": 0,
  "metadata": {
    "colab": {
      "provenance": [],
      "collapsed_sections": []
    },
    "kernelspec": {
      "name": "python3",
      "display_name": "Python 3"
    },
    "language_info": {
      "name": "python"
    }
  },
  "cells": [
    {
      "cell_type": "markdown",
      "source": [
        "**Introduction**"
      ],
      "metadata": {
        "id": "_MytX7EdSu-r"
      }
    },
    {
      "cell_type": "markdown",
      "source": [
        "Customer Churn impacts the cost to the business. Higher Customer Churn leads to loss in revenue and the additional marketing costs involved with replacing those customers with new ones.\n",
        "So, for a business it would be good if one could predict who is going to get churned so that they can proactively go to the customer and help them in providing better services to those customer and enhance business by changing the customer decision."
      ],
      "metadata": {
        "id": "CdEzd1y7SzO9"
      }
    },
    {
      "cell_type": "markdown",
      "source": [
        "This dataset consist of 6650 customers data. It consists of their ID,Age,Gender,Income, Balance,Vintage,Transaction Status,Product Holding, Credit Card,Credit Category,Is_Churn.There are total of 11 features. \n",
        "\n",
        "We have 23.11% of customers who have churned. It will be little difficult to directly analyse from the data. We will have to do some preprocessing before modelling to predict on test data with better accuracy."
      ],
      "metadata": {
        "id": "adYRu_q5mvUU"
      }
    },
    {
      "cell_type": "markdown",
      "source": [
        "**Libraries**"
      ],
      "metadata": {
        "id": "r4va3RJSSg2Y"
      }
    },
    {
      "cell_type": "code",
      "execution_count": null,
      "metadata": {
        "id": "gGMVI7_PhXpP"
      },
      "outputs": [],
      "source": [
        "import pandas as pd\n",
        "import numpy as np\n",
        "import matplotlib.pyplot as plt\n",
        "import seaborn as sns\n",
        "\n",
        "from sklearn.model_selection import train_test_split\n",
        "from sklearn.preprocessing import MinMaxScaler\n",
        "from sklearn.model_selection import GridSearchCV\n",
        "from sklearn.ensemble import RandomForestClassifier\n",
        "from sklearn.decomposition import PCA\n",
        "\n",
        "from sklearn.metrics import confusion_matrix,roc_curve,auc\n",
        "from sklearn.metrics import precision_recall_curve\n",
        "from sklearn.metrics import f1_score\n",
        "from sklearn.metrics import classification_report\n",
        "\n",
        "import tensorflow as tf\n",
        "from tensorflow import keras\n",
        "from keras.wrappers.scikit_learn import KerasClassifier\n",
        "from keras.models import Sequential\n",
        "from keras.layers import Dense,Activation, Embedding,Flatten,LeakyReLU,BatchNormalization\n",
        "from keras.activations import relu,sigmoid\n",
        "from keras.layers import Dropout\n",
        "\n",
        "import imblearn\n",
        "from imblearn.over_sampling import SMOTE\n",
        "\n",
        "\n",
        "\n",
        "import warnings\n",
        "warnings.filterwarnings('ignore')"
      ]
    },
    {
      "cell_type": "markdown",
      "source": [
        "**DATA LOADING**"
      ],
      "metadata": {
        "id": "sXw7U-GVqC_j"
      }
    },
    {
      "cell_type": "code",
      "source": [
        "train_data= pd.read_csv(\"train_PDjVQMB.csv\")\n",
        "test_data= pd.read_csv(\"test_lTY72QC.csv\")"
      ],
      "metadata": {
        "id": "7FboeXnp6LzN"
      },
      "execution_count": null,
      "outputs": []
    },
    {
      "cell_type": "code",
      "source": [
        "train_data.shape, test_data.shape"
      ],
      "metadata": {
        "colab": {
          "base_uri": "https://localhost:8080/"
        },
        "id": "P0LkgrZZoyO7",
        "outputId": "a6e56e4d-1b23-4b7d-c113-5ee5e4c35488"
      },
      "execution_count": null,
      "outputs": [
        {
          "output_type": "execute_result",
          "data": {
            "text/plain": [
              "((6650, 11), (2851, 10))"
            ]
          },
          "metadata": {},
          "execution_count": 3
        }
      ]
    },
    {
      "cell_type": "code",
      "source": [
        "columns= train_data.columns"
      ],
      "metadata": {
        "id": "0lNDK4D2qbNB"
      },
      "execution_count": null,
      "outputs": []
    },
    {
      "cell_type": "markdown",
      "source": [
        "**Columns Description**"
      ],
      "metadata": {
        "id": "as0mlJv6qjlE"
      }
    },
    {
      "cell_type": "markdown",
      "source": [
        "**ID** : Unique Identifier of a row\n",
        "\n",
        "**Age**: Age of the customer in years\n",
        "\n",
        "**Gender**: Gender of the customer (Male and Female)\n",
        "\n",
        "**Income**: Yearly income of the customer\n",
        "* Less than 5L\n",
        "* 5L - 10L \n",
        "* 10L - 15L\n",
        "* More than 15L  \n",
        "\n",
        "**Balance**:Average quarterly balance of the customer\n",
        "\n",
        "**Vintage**: No. of years the customer is associated with bank\n",
        "\n",
        "**Transaction_Status**: Whether the customer has done any transaction in the past 3 months or not.\n",
        "* 1 means Yes \n",
        "* 0 means No\n",
        "\n",
        "**Product_Holdings**: No. of product holdings with the bank\n",
        "\n",
        "**Credit_Card**: Whether the customer has a credit card or not\n",
        "* 1 means Yes \n",
        "* 0 means No\n",
        "\n",
        "**Credit_Category**: Category of a customer based on the credit score\n",
        "* Poor\n",
        "* Average\n",
        "* Good\n",
        "\n",
        "**Is_Churn**: Whether the customer will churn in next 6 months or not\n",
        "* 1 means Churned \n",
        "* 0 means Not Churned"
      ],
      "metadata": {
        "id": "XFHp-ygpq97L"
      }
    },
    {
      "cell_type": "markdown",
      "source": [
        "Categorical Features and Numerical Features"
      ],
      "metadata": {
        "id": "1MRpH-IJteav"
      }
    },
    {
      "cell_type": "code",
      "source": [
        "categorical_feature= train_data.select_dtypes(include= np.object).columns\n",
        "print(\"categorical features are : \",end=\" \")\n",
        "print(categorical_feature)\n",
        "\n",
        "numerical_feature= train_data.select_dtypes(include=[np.int64,np.float64]).columns\n",
        "print(\"numerical feature are : \", end=\" \")\n",
        "print(numerical_feature)"
      ],
      "metadata": {
        "colab": {
          "base_uri": "https://localhost:8080/"
        },
        "id": "UuK4cLnKtY2B",
        "outputId": "f4f0ce68-bcfe-4ce0-e996-d6ae111ca1b3"
      },
      "execution_count": null,
      "outputs": [
        {
          "output_type": "stream",
          "name": "stdout",
          "text": [
            "categorical features are :  Index(['ID', 'Gender', 'Income', 'Product_Holdings', 'Credit_Category'], dtype='object')\n",
            "numerical feature are :  Index(['Age', 'Balance', 'Vintage', 'Transaction_Status', 'Credit_Card',\n",
            "       'Is_Churn'],\n",
            "      dtype='object')\n"
          ]
        }
      ]
    },
    {
      "cell_type": "code",
      "source": [
        "train_data['Is_Churn'].value_counts()"
      ],
      "metadata": {
        "colab": {
          "base_uri": "https://localhost:8080/"
        },
        "id": "ubxdOvFYw730",
        "outputId": "5f678e1c-b0a9-47e7-931f-35536625e1c4"
      },
      "execution_count": null,
      "outputs": [
        {
          "output_type": "execute_result",
          "data": {
            "text/plain": [
              "0    5113\n",
              "1    1537\n",
              "Name: Is_Churn, dtype: int64"
            ]
          },
          "metadata": {},
          "execution_count": 6
        }
      ]
    },
    {
      "cell_type": "markdown",
      "source": [
        "**We have highly imbalanced data. We need to do either upsampling or downsampling to balance the data.**"
      ],
      "metadata": {
        "id": "PwqQbcjztjKZ"
      }
    },
    {
      "cell_type": "code",
      "source": [
        "train_data.info()"
      ],
      "metadata": {
        "colab": {
          "base_uri": "https://localhost:8080/"
        },
        "id": "8sC5NteZpxCr",
        "outputId": "b0778527-8e2f-4114-8059-dd9b7bccfca0"
      },
      "execution_count": null,
      "outputs": [
        {
          "output_type": "stream",
          "name": "stdout",
          "text": [
            "<class 'pandas.core.frame.DataFrame'>\n",
            "RangeIndex: 6650 entries, 0 to 6649\n",
            "Data columns (total 11 columns):\n",
            " #   Column              Non-Null Count  Dtype  \n",
            "---  ------              --------------  -----  \n",
            " 0   ID                  6650 non-null   object \n",
            " 1   Age                 6650 non-null   int64  \n",
            " 2   Gender              6650 non-null   object \n",
            " 3   Income              6650 non-null   object \n",
            " 4   Balance             6650 non-null   float64\n",
            " 5   Vintage             6650 non-null   int64  \n",
            " 6   Transaction_Status  6650 non-null   int64  \n",
            " 7   Product_Holdings    6650 non-null   object \n",
            " 8   Credit_Card         6650 non-null   int64  \n",
            " 9   Credit_Category     6650 non-null   object \n",
            " 10  Is_Churn            6650 non-null   int64  \n",
            "dtypes: float64(1), int64(5), object(5)\n",
            "memory usage: 571.6+ KB\n"
          ]
        }
      ]
    },
    {
      "cell_type": "markdown",
      "source": [
        "**We do not have any null values in any feature.**"
      ],
      "metadata": {
        "id": "0QHzlVUetKfY"
      }
    },
    {
      "cell_type": "code",
      "source": [
        "train_data.head()"
      ],
      "metadata": {
        "colab": {
          "base_uri": "https://localhost:8080/",
          "height": 206
        },
        "id": "0Jb3DTvm6YAs",
        "outputId": "b7dfadfb-248a-42ab-fe6e-d3da21c45eab"
      },
      "execution_count": null,
      "outputs": [
        {
          "output_type": "execute_result",
          "data": {
            "text/plain": [
              "         ID  Age  Gender         Income     Balance  Vintage  \\\n",
              "0  84e2fcc9   36  Female       5L - 10L   563266.44        4   \n",
              "1  57fea15e   53  Female   Less than 5L   875572.11        2   \n",
              "2  8df34ef3   35  Female  More than 15L   701607.06        2   \n",
              "3  c5c0788b   43  Female  More than 15L  1393922.16        0   \n",
              "4  951d69c4   39  Female  More than 15L   893146.23        1   \n",
              "\n",
              "   Transaction_Status Product_Holdings  Credit_Card Credit_Category  Is_Churn  \n",
              "0                   0                1            0         Average         1  \n",
              "1                   1                1            1            Poor         0  \n",
              "2                   1                2            0            Poor         0  \n",
              "3                   1                2            1            Poor         1  \n",
              "4                   1                1            1            Good         1  "
            ],
            "text/html": [
              "\n",
              "  <div id=\"df-78e93c43-1797-49f3-bd9d-581a2a775c41\">\n",
              "    <div class=\"colab-df-container\">\n",
              "      <div>\n",
              "<style scoped>\n",
              "    .dataframe tbody tr th:only-of-type {\n",
              "        vertical-align: middle;\n",
              "    }\n",
              "\n",
              "    .dataframe tbody tr th {\n",
              "        vertical-align: top;\n",
              "    }\n",
              "\n",
              "    .dataframe thead th {\n",
              "        text-align: right;\n",
              "    }\n",
              "</style>\n",
              "<table border=\"1\" class=\"dataframe\">\n",
              "  <thead>\n",
              "    <tr style=\"text-align: right;\">\n",
              "      <th></th>\n",
              "      <th>ID</th>\n",
              "      <th>Age</th>\n",
              "      <th>Gender</th>\n",
              "      <th>Income</th>\n",
              "      <th>Balance</th>\n",
              "      <th>Vintage</th>\n",
              "      <th>Transaction_Status</th>\n",
              "      <th>Product_Holdings</th>\n",
              "      <th>Credit_Card</th>\n",
              "      <th>Credit_Category</th>\n",
              "      <th>Is_Churn</th>\n",
              "    </tr>\n",
              "  </thead>\n",
              "  <tbody>\n",
              "    <tr>\n",
              "      <th>0</th>\n",
              "      <td>84e2fcc9</td>\n",
              "      <td>36</td>\n",
              "      <td>Female</td>\n",
              "      <td>5L - 10L</td>\n",
              "      <td>563266.44</td>\n",
              "      <td>4</td>\n",
              "      <td>0</td>\n",
              "      <td>1</td>\n",
              "      <td>0</td>\n",
              "      <td>Average</td>\n",
              "      <td>1</td>\n",
              "    </tr>\n",
              "    <tr>\n",
              "      <th>1</th>\n",
              "      <td>57fea15e</td>\n",
              "      <td>53</td>\n",
              "      <td>Female</td>\n",
              "      <td>Less than 5L</td>\n",
              "      <td>875572.11</td>\n",
              "      <td>2</td>\n",
              "      <td>1</td>\n",
              "      <td>1</td>\n",
              "      <td>1</td>\n",
              "      <td>Poor</td>\n",
              "      <td>0</td>\n",
              "    </tr>\n",
              "    <tr>\n",
              "      <th>2</th>\n",
              "      <td>8df34ef3</td>\n",
              "      <td>35</td>\n",
              "      <td>Female</td>\n",
              "      <td>More than 15L</td>\n",
              "      <td>701607.06</td>\n",
              "      <td>2</td>\n",
              "      <td>1</td>\n",
              "      <td>2</td>\n",
              "      <td>0</td>\n",
              "      <td>Poor</td>\n",
              "      <td>0</td>\n",
              "    </tr>\n",
              "    <tr>\n",
              "      <th>3</th>\n",
              "      <td>c5c0788b</td>\n",
              "      <td>43</td>\n",
              "      <td>Female</td>\n",
              "      <td>More than 15L</td>\n",
              "      <td>1393922.16</td>\n",
              "      <td>0</td>\n",
              "      <td>1</td>\n",
              "      <td>2</td>\n",
              "      <td>1</td>\n",
              "      <td>Poor</td>\n",
              "      <td>1</td>\n",
              "    </tr>\n",
              "    <tr>\n",
              "      <th>4</th>\n",
              "      <td>951d69c4</td>\n",
              "      <td>39</td>\n",
              "      <td>Female</td>\n",
              "      <td>More than 15L</td>\n",
              "      <td>893146.23</td>\n",
              "      <td>1</td>\n",
              "      <td>1</td>\n",
              "      <td>1</td>\n",
              "      <td>1</td>\n",
              "      <td>Good</td>\n",
              "      <td>1</td>\n",
              "    </tr>\n",
              "  </tbody>\n",
              "</table>\n",
              "</div>\n",
              "      <button class=\"colab-df-convert\" onclick=\"convertToInteractive('df-78e93c43-1797-49f3-bd9d-581a2a775c41')\"\n",
              "              title=\"Convert this dataframe to an interactive table.\"\n",
              "              style=\"display:none;\">\n",
              "        \n",
              "  <svg xmlns=\"http://www.w3.org/2000/svg\" height=\"24px\"viewBox=\"0 0 24 24\"\n",
              "       width=\"24px\">\n",
              "    <path d=\"M0 0h24v24H0V0z\" fill=\"none\"/>\n",
              "    <path d=\"M18.56 5.44l.94 2.06.94-2.06 2.06-.94-2.06-.94-.94-2.06-.94 2.06-2.06.94zm-11 1L8.5 8.5l.94-2.06 2.06-.94-2.06-.94L8.5 2.5l-.94 2.06-2.06.94zm10 10l.94 2.06.94-2.06 2.06-.94-2.06-.94-.94-2.06-.94 2.06-2.06.94z\"/><path d=\"M17.41 7.96l-1.37-1.37c-.4-.4-.92-.59-1.43-.59-.52 0-1.04.2-1.43.59L10.3 9.45l-7.72 7.72c-.78.78-.78 2.05 0 2.83L4 21.41c.39.39.9.59 1.41.59.51 0 1.02-.2 1.41-.59l7.78-7.78 2.81-2.81c.8-.78.8-2.07 0-2.86zM5.41 20L4 18.59l7.72-7.72 1.47 1.35L5.41 20z\"/>\n",
              "  </svg>\n",
              "      </button>\n",
              "      \n",
              "  <style>\n",
              "    .colab-df-container {\n",
              "      display:flex;\n",
              "      flex-wrap:wrap;\n",
              "      gap: 12px;\n",
              "    }\n",
              "\n",
              "    .colab-df-convert {\n",
              "      background-color: #E8F0FE;\n",
              "      border: none;\n",
              "      border-radius: 50%;\n",
              "      cursor: pointer;\n",
              "      display: none;\n",
              "      fill: #1967D2;\n",
              "      height: 32px;\n",
              "      padding: 0 0 0 0;\n",
              "      width: 32px;\n",
              "    }\n",
              "\n",
              "    .colab-df-convert:hover {\n",
              "      background-color: #E2EBFA;\n",
              "      box-shadow: 0px 1px 2px rgba(60, 64, 67, 0.3), 0px 1px 3px 1px rgba(60, 64, 67, 0.15);\n",
              "      fill: #174EA6;\n",
              "    }\n",
              "\n",
              "    [theme=dark] .colab-df-convert {\n",
              "      background-color: #3B4455;\n",
              "      fill: #D2E3FC;\n",
              "    }\n",
              "\n",
              "    [theme=dark] .colab-df-convert:hover {\n",
              "      background-color: #434B5C;\n",
              "      box-shadow: 0px 1px 3px 1px rgba(0, 0, 0, 0.15);\n",
              "      filter: drop-shadow(0px 1px 2px rgba(0, 0, 0, 0.3));\n",
              "      fill: #FFFFFF;\n",
              "    }\n",
              "  </style>\n",
              "\n",
              "      <script>\n",
              "        const buttonEl =\n",
              "          document.querySelector('#df-78e93c43-1797-49f3-bd9d-581a2a775c41 button.colab-df-convert');\n",
              "        buttonEl.style.display =\n",
              "          google.colab.kernel.accessAllowed ? 'block' : 'none';\n",
              "\n",
              "        async function convertToInteractive(key) {\n",
              "          const element = document.querySelector('#df-78e93c43-1797-49f3-bd9d-581a2a775c41');\n",
              "          const dataTable =\n",
              "            await google.colab.kernel.invokeFunction('convertToInteractive',\n",
              "                                                     [key], {});\n",
              "          if (!dataTable) return;\n",
              "\n",
              "          const docLinkHtml = 'Like what you see? Visit the ' +\n",
              "            '<a target=\"_blank\" href=https://colab.research.google.com/notebooks/data_table.ipynb>data table notebook</a>'\n",
              "            + ' to learn more about interactive tables.';\n",
              "          element.innerHTML = '';\n",
              "          dataTable['output_type'] = 'display_data';\n",
              "          await google.colab.output.renderOutput(dataTable, element);\n",
              "          const docLink = document.createElement('div');\n",
              "          docLink.innerHTML = docLinkHtml;\n",
              "          element.appendChild(docLink);\n",
              "        }\n",
              "      </script>\n",
              "    </div>\n",
              "  </div>\n",
              "  "
            ]
          },
          "metadata": {},
          "execution_count": 8
        }
      ]
    },
    {
      "cell_type": "code",
      "source": [
        "train_data.drop(['ID','Age'],axis= 'columns',inplace=True)\n",
        "test_data.drop(columns=['ID','Age'],axis=1,inplace=True) "
      ],
      "metadata": {
        "id": "QTAWKe7RvJrx"
      },
      "execution_count": null,
      "outputs": []
    },
    {
      "cell_type": "markdown",
      "source": [
        "**Unique values of Categorical Data**"
      ],
      "metadata": {
        "id": "XwTKTeP0t67j"
      }
    },
    {
      "cell_type": "code",
      "source": [
        "def unique_value(df):\n",
        "  for column in df:\n",
        "    if df[column].dtypes== 'object':\n",
        "      print(f'{column} : {df[column].unique()}')\n",
        "\n",
        "unique_value(train_data)\n"
      ],
      "metadata": {
        "colab": {
          "base_uri": "https://localhost:8080/"
        },
        "id": "L88lgDZmt_ad",
        "outputId": "50b8c1ae-31dc-4c42-87c7-5a63c7dbb349"
      },
      "execution_count": null,
      "outputs": [
        {
          "output_type": "stream",
          "name": "stdout",
          "text": [
            "Gender : ['Female' 'Male']\n",
            "Income : ['5L - 10L' 'Less than 5L' 'More than 15L' '10L - 15L']\n",
            "Product_Holdings : ['1' '2' '3+']\n",
            "Credit_Category : ['Average' 'Poor' 'Good']\n"
          ]
        }
      ]
    },
    {
      "cell_type": "markdown",
      "source": [
        "**EXPLORATORY DATA ANALYSIS**"
      ],
      "metadata": {
        "id": "b5OLBxWOvXyx"
      }
    },
    {
      "cell_type": "code",
      "source": [
        "columns"
      ],
      "metadata": {
        "colab": {
          "base_uri": "https://localhost:8080/"
        },
        "id": "D9Y-YWclvyVA",
        "outputId": "ff2fe0fa-813b-4617-8335-dbb5aabdfce2"
      },
      "execution_count": null,
      "outputs": [
        {
          "output_type": "execute_result",
          "data": {
            "text/plain": [
              "Index(['ID', 'Age', 'Gender', 'Income', 'Balance', 'Vintage',\n",
              "       'Transaction_Status', 'Product_Holdings', 'Credit_Card',\n",
              "       'Credit_Category', 'Is_Churn'],\n",
              "      dtype='object')"
            ]
          },
          "metadata": {},
          "execution_count": 11
        }
      ]
    },
    {
      "cell_type": "code",
      "source": [
        "train_data['Gender'].value_counts()"
      ],
      "metadata": {
        "colab": {
          "base_uri": "https://localhost:8080/"
        },
        "id": "c7atUNT6JiTQ",
        "outputId": "d8d0d520-1ee6-44c2-ab7f-5ae520ce0961"
      },
      "execution_count": null,
      "outputs": [
        {
          "output_type": "execute_result",
          "data": {
            "text/plain": [
              "Male      3612\n",
              "Female    3038\n",
              "Name: Gender, dtype: int64"
            ]
          },
          "metadata": {},
          "execution_count": 12
        }
      ]
    },
    {
      "cell_type": "code",
      "source": [
        "def calcu_percentage(pct,data):\n",
        "  return \"{:.1f}%\".format(pct)\n",
        "\n",
        "gender_data= dict(train_data['Gender'].value_counts())\n",
        "fig, ax= plt.subplots(figsize=(10,8))\n",
        "labels=list(gender_data.keys())\n",
        "colors=[\"orange\", \"cyan\"]\n",
        "explode=(0.1, 0.0)\n",
        "ax.pie(gender_data.values(), labels=labels, colors=colors,shadow=False, explode=explode,autopct = lambda pct: calcu_percentage(pct,list(gender_data.values())))\n",
        "ax.legend(labels,\n",
        "          title=\"Gender\",\n",
        "          loc =\"upper right\")\n",
        "ax.set_title(\"MALE-FEMALE PERCENTAGE\")\n",
        "plt.show()"
      ],
      "metadata": {
        "colab": {
          "base_uri": "https://localhost:8080/",
          "height": 482
        },
        "id": "XPpNyl0oTfye",
        "outputId": "f8c23091-0c59-4edd-e975-df108a2606b1"
      },
      "execution_count": null,
      "outputs": [
        {
          "output_type": "display_data",
          "data": {
            "text/plain": [
              "<Figure size 720x576 with 1 Axes>"
            ],
            "image/png": "[encoded data removed]"
          },
          "metadata": {}
        }
      ]
    },
    {
      "cell_type": "markdown",
      "source": [
        "This dataset have more samples of Male than Females. But the difference in percentage is not that high, so we can say that the data of gender is almost balanced."
      ],
      "metadata": {
        "id": "bn3TSTyjJwZ8"
      }
    },
    {
      "cell_type": "code",
      "source": [
        "gender_churn_yes= train_data[train_data.Is_Churn==1].Gender\n",
        "gender_churn_no= train_data[train_data.Is_Churn==0].Gender\n",
        "\n",
        "plt.hist([gender_churn_yes,gender_churn_no],color=['Red','Green'])\n",
        "plt.show()"
      ],
      "metadata": {
        "colab": {
          "base_uri": "https://localhost:8080/",
          "height": 265
        },
        "id": "W1TA6_UYh7mb",
        "outputId": "10a25219-fb9f-457d-8ded-c95606a300f2"
      },
      "execution_count": null,
      "outputs": [
        {
          "output_type": "display_data",
          "data": {
            "image/png": "[encoded data removed]",
            "text/plain": [
              "<Figure size 432x288 with 1 Axes>"
            ]
          },
          "metadata": {
            "needs_background": "light"
          }
        }
      ]
    },
    {
      "cell_type": "markdown",
      "source": [
        "We have almost equal number of male and female who had churned.But if we talk about the ratio then female ratio would be high in comparison to Male. "
      ],
      "metadata": {
        "id": "MjYH4-LniEtd"
      }
    },
    {
      "cell_type": "code",
      "source": [
        "train_data['Income'].value_counts()"
      ],
      "metadata": {
        "colab": {
          "base_uri": "https://localhost:8080/"
        },
        "id": "2BW160WkJvjM",
        "outputId": "2de44b6b-b1b7-443b-ceea-f5859888219e"
      },
      "execution_count": null,
      "outputs": [
        {
          "output_type": "execute_result",
          "data": {
            "text/plain": [
              "10L - 15L        1885\n",
              "5L - 10L         1847\n",
              "Less than 5L     1573\n",
              "More than 15L    1345\n",
              "Name: Income, dtype: int64"
            ]
          },
          "metadata": {},
          "execution_count": 305
        }
      ]
    },
    {
      "cell_type": "code",
      "source": [
        "def calcu_percentage(pct,data):\n",
        "  return \"{:.1f}%\".format(pct)\n",
        "\n",
        "income_data= dict(train_data['Income'].value_counts())\n",
        "fig, ax= plt.subplots(figsize=(25,8))\n",
        "labels=list(income_data.keys())\n",
        "colors=[\"orange\", \"cyan\", \"green\",\"blue\"]\n",
        "explode=(0.1, 0.0, 0.1,0.1)\n",
        "ax.pie(income_data.values(), labels=labels, colors=colors,shadow=False, explode=explode,autopct = lambda pct: calcu_percentage(pct,list(income_data.values())))\n",
        "ax.legend(labels,title=\"Income Category\",\n",
        "          loc =\"upper left\")\n",
        "ax.set_title(\"Income PERCENTAGE\")\n",
        "plt.show()"
      ],
      "metadata": {
        "colab": {
          "base_uri": "https://localhost:8080/",
          "height": 482
        },
        "id": "1VRPYBUXi6MI",
        "outputId": "960007a5-bc17-4d6f-a931-4d12c59f56e2"
      },
      "execution_count": null,
      "outputs": [
        {
          "output_type": "display_data",
          "data": {
            "image/png": "[encoded data removed]",
            "text/plain": [
              "<Figure size 1800x576 with 1 Axes>"
            ]
          },
          "metadata": {}
        }
      ]
    },
    {
      "cell_type": "markdown",
      "source": [
        "We have four kind of categories under Income, We have highest set of data of 10-15lac and 5-10lac.The difference in percentage is very less. Then we have 23.7% of data under less than 5lac and followed by more than 15lac.\n",
        "\n",
        "The difference in percentage is not that signigficant. We can consider the data as uniformly distributed. "
      ],
      "metadata": {
        "id": "nVovIhrHlmva"
      }
    },
    {
      "cell_type": "markdown",
      "source": [
        "**Analysis of Income with Is_Churn**"
      ],
      "metadata": {
        "id": "mTVYafQ_mjie"
      }
    },
    {
      "cell_type": "code",
      "source": [
        "income_churn_yes= train_data[train_data.Is_Churn==1].Income\n",
        "income_churn_no= train_data[train_data.Is_Churn==0].Income\n",
        "plt.hist([income_churn_yes,income_churn_no],color=['Red','Green'])\n",
        "plt.title(\"Proportion of Customer under Income category who have churned and not churned\")\n",
        "plt.show()"
      ],
      "metadata": {
        "colab": {
          "base_uri": "https://localhost:8080/",
          "height": 281
        },
        "id": "Au_HtXI3KEqa",
        "outputId": "59820b30-9804-4be7-9bab-e1f1ac1e0a6c"
      },
      "execution_count": null,
      "outputs": [
        {
          "output_type": "display_data",
          "data": {
            "image/png": "[encoded data removed]",
            "text/plain": [
              "<Figure size 432x288 with 1 Axes>"
            ]
          },
          "metadata": {
            "needs_background": "light"
          }
        }
      ]
    },
    {
      "cell_type": "code",
      "source": [
        "train_data['Vintage'].value_counts()"
      ],
      "metadata": {
        "colab": {
          "base_uri": "https://localhost:8080/"
        },
        "id": "sy0DpCw_Pfmq",
        "outputId": "fd8826ad-1f5f-496f-85f0-80b9349ac8fa"
      },
      "execution_count": null,
      "outputs": [
        {
          "output_type": "execute_result",
          "data": {
            "text/plain": [
              "3    1405\n",
              "1    1354\n",
              "2    1328\n",
              "4    1296\n",
              "0     956\n",
              "5     311\n",
              "Name: Vintage, dtype: int64"
            ]
          },
          "metadata": {},
          "execution_count": 308
        }
      ]
    },
    {
      "cell_type": "code",
      "source": [
        "def calcu_percentage(pct,data):\n",
        "  return \"{:.1f}%\".format(pct)\n",
        "\n",
        "vintage_data= dict(train_data['Vintage'].value_counts())\n",
        "fig, ax= plt.subplots(figsize=(25,8))\n",
        "labels=list(vintage_data.keys())\n",
        "colors=[\"orange\", \"cyan\", \"green\",\"blue\",\"red\",\"yellow\"]\n",
        "explode=(0.1, 0.0, 0.1,0.1,0.3,0.2)\n",
        "ax.pie(vintage_data.values(), labels=labels, colors=colors,shadow=False, explode=explode,autopct = lambda pct: calcu_percentage(pct,list(vintage_data.values())))\n",
        "ax.legend(labels,title=\"Vintage\",\n",
        "          loc =\"upper left\")\n",
        "ax.set_title(\"No of years Customer remain  with Bank\")\n",
        "plt.show()"
      ],
      "metadata": {
        "colab": {
          "base_uri": "https://localhost:8080/",
          "height": 482
        },
        "id": "Xt4K75DXnx7K",
        "outputId": "7892064e-6251-4ee1-bda6-14eb4ba900b2"
      },
      "execution_count": null,
      "outputs": [
        {
          "output_type": "display_data",
          "data": {
            "image/png": "[encoded data removed]",
            "text/plain": [
              "<Figure size 1800x576 with 1 Axes>"
            ]
          },
          "metadata": {}
        }
      ]
    },
    {
      "cell_type": "code",
      "source": [
        "vintage_churn_yes= train_data[train_data.Is_Churn==1].Vintage\n",
        "vintage_churn_no= train_data[train_data.Is_Churn==0].Vintage\n",
        "\n",
        "plt.hist([vintage_churn_yes,vintage_churn_no],color=['Red','Green'])\n",
        "plt.show()"
      ],
      "metadata": {
        "colab": {
          "base_uri": "https://localhost:8080/",
          "height": 265
        },
        "id": "vLDfOxlMP0bQ",
        "outputId": "5668d082-ef3c-4e02-d88d-175613f6c3d9"
      },
      "execution_count": null,
      "outputs": [
        {
          "output_type": "display_data",
          "data": {
            "image/png": "[encoded data removed]",
            "text/plain": [
              "<Figure size 432x288 with 1 Axes>"
            ]
          },
          "metadata": {
            "needs_background": "light"
          }
        }
      ]
    },
    {
      "cell_type": "code",
      "source": [
        "train_data['Transaction_Status'].value_counts()"
      ],
      "metadata": {
        "colab": {
          "base_uri": "https://localhost:8080/"
        },
        "id": "Nja0zxsbRIYQ",
        "outputId": "557c490c-6404-44cf-bb40-6bdcdd123fa0"
      },
      "execution_count": null,
      "outputs": [
        {
          "output_type": "execute_result",
          "data": {
            "text/plain": [
              "1    3430\n",
              "0    3220\n",
              "Name: Transaction_Status, dtype: int64"
            ]
          },
          "metadata": {},
          "execution_count": 311
        }
      ]
    },
    {
      "cell_type": "code",
      "source": [
        "def calcu_percentage(pct,data):\n",
        "  return \"{:.1f}%\".format(pct)\n",
        "\n",
        "transaction_data= dict(train_data['Transaction_Status'].value_counts())\n",
        "fig, ax= plt.subplots(figsize=(25,8))\n",
        "labels=list(transaction_data.keys())\n",
        "colors=[\"green\",\"blue\"]\n",
        "explode=(0.1, 0.0)\n",
        "ax.pie(transaction_data.values(), startangle= -90, labels=labels, colors=colors,shadow=False, explode=explode,autopct = lambda pct: calcu_percentage(pct,list(transaction_data.values())))\n",
        "ax.legend(labels,title=\"Transaction Status Count\",\n",
        "          loc =\"upper left\")\n",
        "ax.set_title(\"Count of Customers who have done transaction in last three months\")\n",
        "plt.show()"
      ],
      "metadata": {
        "colab": {
          "base_uri": "https://localhost:8080/",
          "height": 482
        },
        "id": "eForvMoJBmDR",
        "outputId": "a930f5e0-54d1-4b27-aae3-26afae5c5b7b"
      },
      "execution_count": null,
      "outputs": [
        {
          "output_type": "display_data",
          "data": {
            "image/png": "[encoded data removed]",
            "text/plain": [
              "<Figure size 1800x576 with 1 Axes>"
            ]
          },
          "metadata": {}
        }
      ]
    },
    {
      "cell_type": "markdown",
      "source": [
        "**We have almost equal number of cutomers who have done transaction and who have not done any transaction in last three months. Data is balanced for this category.**"
      ],
      "metadata": {
        "id": "-VMAxwfGCgCu"
      }
    },
    {
      "cell_type": "code",
      "source": [
        "ts_churn_yes= train_data[train_data.Is_Churn==1].Transaction_Status\n",
        "ts_churn_no= train_data[train_data.Is_Churn==0].Transaction_Status\n",
        "\n",
        "plt.hist([ts_churn_yes,ts_churn_no],color=['Red','Green'])\n",
        "plt.show()"
      ],
      "metadata": {
        "colab": {
          "base_uri": "https://localhost:8080/",
          "height": 265
        },
        "id": "Rt2eU14rRg8Y",
        "outputId": "70754824-d0e3-4dc0-e7f1-c177a950047c"
      },
      "execution_count": null,
      "outputs": [
        {
          "output_type": "display_data",
          "data": {
            "image/png": "[encoded data removed]",
            "text/plain": [
              "<Figure size 432x288 with 1 Axes>"
            ]
          },
          "metadata": {
            "needs_background": "light"
          }
        }
      ]
    },
    {
      "cell_type": "markdown",
      "source": [
        "We have slightly higher number of customer who have not done any transaction in last three months and have churned. "
      ],
      "metadata": {
        "id": "MSg7prtgFBUE"
      }
    },
    {
      "cell_type": "code",
      "source": [
        "train_data['Product_Holdings'].value_counts()\n",
        "test_data['Product_Holdings'].value_counts()"
      ],
      "metadata": {
        "colab": {
          "base_uri": "https://localhost:8080/"
        },
        "id": "F9OcWrGrSrzG",
        "outputId": "4d74d5e3-128b-452e-c685-bbf724d31b14"
      },
      "execution_count": null,
      "outputs": [
        {
          "output_type": "execute_result",
          "data": {
            "text/plain": [
              "2     1359\n",
              "1     1342\n",
              "3+     150\n",
              "Name: Product_Holdings, dtype: int64"
            ]
          },
          "metadata": {},
          "execution_count": 314
        }
      ]
    },
    {
      "cell_type": "code",
      "source": [
        "sns.set_theme(style=\"whitegrid\")\n",
        "y=sns.countplot(x=train_data['Product_Holdings'],data=train_data)\n",
        "plt.show()"
      ],
      "metadata": {
        "colab": {
          "base_uri": "https://localhost:8080/",
          "height": 285
        },
        "id": "cmalnaGUGAOm",
        "outputId": "e423fc09-5f16-4439-c0d8-517d27b10308"
      },
      "execution_count": null,
      "outputs": [
        {
          "output_type": "display_data",
          "data": {
            "image/png": "[encoded data removed]",
            "text/plain": [
              "<Figure size 432x288 with 1 Axes>"
            ]
          },
          "metadata": {}
        }
      ]
    },
    {
      "cell_type": "markdown",
      "source": [
        "We have equal samples for the customers who have 1 or 2 holdings but very less samples for customers who have 3+ holdings.\n",
        "\n",
        "We can merge 3+ with 2 to get better model"
      ],
      "metadata": {
        "id": "LftXPHS8H-PM"
      }
    },
    {
      "cell_type": "code",
      "source": [
        "ph_churn_yes= train_data[train_data.Is_Churn==1].Product_Holdings\n",
        "ph_churn_no= train_data[train_data.Is_Churn==0].Product_Holdings\n",
        "\n",
        "plt.hist([ph_churn_yes,ph_churn_no],color=['Red','Green'])\n",
        "plt.show()"
      ],
      "metadata": {
        "id": "uPjvCDm5tOTW",
        "colab": {
          "base_uri": "https://localhost:8080/",
          "height": 268
        },
        "outputId": "6b1dddeb-5142-4015-aef6-555b70a38cf1"
      },
      "execution_count": null,
      "outputs": [
        {
          "output_type": "display_data",
          "data": {
            "image/png": "[encoded data removed]",
            "text/plain": [
              "<Figure size 432x288 with 1 Axes>"
            ]
          },
          "metadata": {}
        }
      ]
    },
    {
      "cell_type": "code",
      "source": [
        "sns.set_theme(style=\"whitegrid\")\n",
        "sns.boxplot(x='Balance',y=\"Is_Churn\",data=train_data,orient=\"h\",color=\"cyan\")\n",
        "plt.show()"
      ],
      "metadata": {
        "colab": {
          "base_uri": "https://localhost:8080/",
          "height": 285
        },
        "id": "mimCfkWXTaQh",
        "outputId": "67c6c34f-a2b5-47b6-fe13-76e6c09a2678"
      },
      "execution_count": null,
      "outputs": [
        {
          "output_type": "display_data",
          "data": {
            "image/png": "[encoded data removed]",
            "text/plain": [
              "<Figure size 432x288 with 1 Axes>"
            ]
          },
          "metadata": {}
        }
      ]
    },
    {
      "cell_type": "code",
      "source": [
        "train_data['Credit_Card'].value_counts()"
      ],
      "metadata": {
        "colab": {
          "base_uri": "https://localhost:8080/"
        },
        "id": "99xmIy9JV4nP",
        "outputId": "39cee4e1-0f3d-44a3-c44b-9ab35ac39f62"
      },
      "execution_count": null,
      "outputs": [
        {
          "output_type": "execute_result",
          "data": {
            "text/plain": [
              "1    4418\n",
              "0    2232\n",
              "Name: Credit_Card, dtype: int64"
            ]
          },
          "metadata": {},
          "execution_count": 318
        }
      ]
    },
    {
      "cell_type": "code",
      "source": [
        "ax= sns.countplot(x= train_data['Credit_Card'],\n",
        "                  data=train_data,\n",
        "                  facecolor=(1,1,1,1),\n",
        "                  linewidth=6,\n",
        "                  edgecolor= sns.color_palette('OrRd',2))"
      ],
      "metadata": {
        "colab": {
          "base_uri": "https://localhost:8080/",
          "height": 285
        },
        "id": "ebQEQS02I-sr",
        "outputId": "2e43002b-3d13-4784-9d42-96afcee3167d"
      },
      "execution_count": null,
      "outputs": [
        {
          "output_type": "display_data",
          "data": {
            "image/png": "[encoded data removed]",
            "text/plain": [
              "<Figure size 432x288 with 1 Axes>"
            ]
          },
          "metadata": {}
        }
      ]
    },
    {
      "cell_type": "markdown",
      "source": [
        "We have more samples of customers who have credit card. "
      ],
      "metadata": {
        "id": "HoAZXERvLKth"
      }
    },
    {
      "cell_type": "code",
      "source": [
        "cc_churn_yes= train_data[train_data.Is_Churn==1].Credit_Card\n",
        "cc_churn_no= train_data[train_data.Is_Churn==0].Credit_Card\n",
        "\n",
        "\n",
        "plt.hist([cc_churn_yes,cc_churn_no],color=['Red','Green'])\n",
        "plt.show()"
      ],
      "metadata": {
        "colab": {
          "base_uri": "https://localhost:8080/",
          "height": 268
        },
        "id": "hIAwAZlzXkWg",
        "outputId": "fee3aa0c-148e-4349-df9f-a59003ac8d52"
      },
      "execution_count": null,
      "outputs": [
        {
          "output_type": "display_data",
          "data": {
            "image/png": "[encoded data removed]",
            "text/plain": [
              "<Figure size 432x288 with 1 Axes>"
            ]
          },
          "metadata": {}
        }
      ]
    },
    {
      "cell_type": "code",
      "source": [
        "train_data['Credit_Category'].value_counts()"
      ],
      "metadata": {
        "colab": {
          "base_uri": "https://localhost:8080/"
        },
        "id": "P6rkh-3vYKSf",
        "outputId": "4c6786bb-84d4-440a-d1f5-33d160e244f7"
      },
      "execution_count": null,
      "outputs": [
        {
          "output_type": "execute_result",
          "data": {
            "text/plain": [
              "Poor       3076\n",
              "Average    2043\n",
              "Good       1531\n",
              "Name: Credit_Category, dtype: int64"
            ]
          },
          "metadata": {},
          "execution_count": 321
        }
      ]
    },
    {
      "cell_type": "code",
      "source": [
        "def calcu_percentage(pct,data):\n",
        "  return \"{:.1f}%\".format(pct)\n",
        "\n",
        "credit_data= dict(train_data['Credit_Category'].value_counts())\n",
        "fig, ax= plt.subplots(figsize=(25,8))\n",
        "labels=list(credit_data.keys())\n",
        "colors=[\"green\",\"orange\",\"cyan\"]\n",
        "explode=(0.0,0.2,0.2)\n",
        "ax.pie(credit_data.values(), startangle=-60,labels=labels, colors=colors,shadow=True, explode=explode,autopct = lambda pct: calcu_percentage(pct,list(credit_data.values())))\n",
        "ax.legend(labels,title=\"Credit Category Count\",\n",
        "          loc =\"best\")\n",
        "ax.set_title(\"Percentage of Customers according to Credit Category\")\n",
        "plt.show()"
      ],
      "metadata": {
        "colab": {
          "base_uri": "https://localhost:8080/",
          "height": 491
        },
        "id": "lyWG2raDLgUJ",
        "outputId": "eb480e4c-a77d-4d6b-8ef9-4928f87d174f"
      },
      "execution_count": null,
      "outputs": [
        {
          "output_type": "display_data",
          "data": {
            "image/png": "[encoded data removed]",
            "text/plain": [
              "<Figure size 1800x576 with 1 Axes>"
            ]
          },
          "metadata": {}
        }
      ]
    },
    {
      "cell_type": "markdown",
      "source": [
        "We have more customers under poor credit category. Almost half of the customers comes under poor credit category.We can consider equal distribution of Average and Good credit category customers. "
      ],
      "metadata": {
        "id": "aAlByQYVNh52"
      }
    },
    {
      "cell_type": "code",
      "source": [
        "c_churn_yes= train_data[train_data.Is_Churn==1].Credit_Category\n",
        "c_churn_no= train_data[train_data.Is_Churn==0].Credit_Category\n",
        "\n",
        "plt.hist([c_churn_yes,c_churn_no],color=['Red','Green'])\n",
        "plt.show()"
      ],
      "metadata": {
        "colab": {
          "base_uri": "https://localhost:8080/",
          "height": 268
        },
        "id": "4VLc3tDZYb00",
        "outputId": "39faddf2-1c06-4f52-8087-27f405eae468"
      },
      "execution_count": null,
      "outputs": [
        {
          "output_type": "display_data",
          "data": {
            "image/png": "[encoded data removed]",
            "text/plain": [
              "<Figure size 432x288 with 1 Axes>"
            ]
          },
          "metadata": {}
        }
      ]
    },
    {
      "cell_type": "code",
      "source": [
        "pt =sns.catplot(x=\"Credit_Card\", hue=\"Credit_Category\",col=\"Is_Churn\",\n",
        "                data=train_data, kind=\"count\",\n",
        "                height=4, aspect=.7)"
      ],
      "metadata": {
        "colab": {
          "base_uri": "https://localhost:8080/",
          "height": 293
        },
        "id": "1yMG9oiaORkP",
        "outputId": "6b319df6-4c08-46d0-96a2-5531727811ce"
      },
      "execution_count": null,
      "outputs": [
        {
          "output_type": "display_data",
          "data": {
            "image/png": "[encoded data removed]",
            "text/plain": [
              "<Figure size 509.25x288 with 2 Axes>"
            ]
          },
          "metadata": {}
        }
      ]
    },
    {
      "cell_type": "markdown",
      "source": [
        "**Converting Categorical Feature into Numerical Feature Using One Hot Encoding**"
      ],
      "metadata": {
        "id": "VFyqA39vuj2H"
      }
    },
    {
      "cell_type": "markdown",
      "source": [
        "Replacing the category of 3+ to 2. As we have very less samples under 3+ category and it will be dificult to make any analysis from that category.It can make the model overfit."
      ],
      "metadata": {
        "id": "LliaWjljSngi"
      }
    },
    {
      "cell_type": "code",
      "source": [
        "train_data['Product_Holdings'].replace('3+','2',inplace= True)\n",
        "test_data['Product_Holdings'].replace('3+','2',inplace= True)"
      ],
      "metadata": {
        "id": "LUC6zh0zFvy-"
      },
      "execution_count": null,
      "outputs": []
    },
    {
      "cell_type": "code",
      "source": [
        "print(train_data['Product_Holdings'].value_counts())\n",
        "print(test_data['Product_Holdings'].value_counts())"
      ],
      "metadata": {
        "colab": {
          "base_uri": "https://localhost:8080/"
        },
        "id": "hfpvtCzuInzg",
        "outputId": "aefe712e-1991-44db-dc5f-ed978b2a4b6c"
      },
      "execution_count": null,
      "outputs": [
        {
          "output_type": "stream",
          "name": "stdout",
          "text": [
            "2    3450\n",
            "1    3200\n",
            "Name: Product_Holdings, dtype: int64\n",
            "2    1509\n",
            "1    1342\n",
            "Name: Product_Holdings, dtype: int64\n"
          ]
        }
      ]
    },
    {
      "cell_type": "code",
      "source": [
        "train_data= pd.get_dummies(data=train_data,columns=['Gender','Income','Product_Holdings','Credit_Category'])\n",
        "test_data= pd.get_dummies(data=test_data,columns=['Gender','Income','Product_Holdings','Credit_Category'])"
      ],
      "metadata": {
        "id": "M00gqC9zhcxt"
      },
      "execution_count": null,
      "outputs": []
    },
    {
      "cell_type": "markdown",
      "source": [
        "**Normalizing the numerical feature.**\n",
        "\n",
        "Normalization : Normalization is a process to rescale the value of feature in a range of [0,1].\n",
        "Internally, it uses the formula: \n",
        "> *Xi- Xmin/Xmax-Xmin*\n",
        "\n"
      ],
      "metadata": {
        "id": "SeMa1kYIQGcF"
      }
    },
    {
      "cell_type": "code",
      "source": [
        "num_feature= ['Balance','Vintage']\n",
        "\n",
        "for i in num_feature:\n",
        "  scaler= MinMaxScaler()\n",
        "  train_data[i]= scaler.fit_transform(train_data[i].values.reshape(-1,1))\n",
        "  test_data[i]= scaler.transform(test_data[i].values.reshape(-1,1))\n",
        "\n",
        "\n",
        "train_data['Balance']= np.round(train_data['Balance'],2)\n",
        "test_data['Balance']= np.round(test_data['Balance'],2)\n"
      ],
      "metadata": {
        "id": "9aHglaYGi4yF"
      },
      "execution_count": null,
      "outputs": []
    },
    {
      "cell_type": "code",
      "source": [
        "train_data.head()"
      ],
      "metadata": {
        "colab": {
          "base_uri": "https://localhost:8080/",
          "height": 288
        },
        "id": "WFaoNhoQm4np",
        "outputId": "0d759433-1ea6-40ca-b4f6-01bc07a03459"
      },
      "execution_count": null,
      "outputs": [
        {
          "output_type": "execute_result",
          "data": {
            "text/plain": [
              "   Balance  Vintage  Transaction_Status  Credit_Card  Is_Churn  Gender_Female  \\\n",
              "0     0.23      0.8                   0            0         1              1   \n",
              "1     0.36      0.4                   1            1         0              1   \n",
              "2     0.29      0.4                   1            0         0              1   \n",
              "3     0.57      0.0                   1            1         1              1   \n",
              "4     0.37      0.2                   1            1         1              1   \n",
              "\n",
              "   Gender_Male  Income_10L - 15L  Income_5L - 10L  Income_Less than 5L  \\\n",
              "0            0                 0                1                    0   \n",
              "1            0                 0                0                    1   \n",
              "2            0                 0                0                    0   \n",
              "3            0                 0                0                    0   \n",
              "4            0                 0                0                    0   \n",
              "\n",
              "   Income_More than 15L  Product_Holdings_1  Product_Holdings_2  \\\n",
              "0                     0                   1                   0   \n",
              "1                     0                   1                   0   \n",
              "2                     1                   0                   1   \n",
              "3                     1                   0                   1   \n",
              "4                     1                   1                   0   \n",
              "\n",
              "   Credit_Category_Average  Credit_Category_Good  Credit_Category_Poor  \n",
              "0                        1                     0                     0  \n",
              "1                        0                     0                     1  \n",
              "2                        0                     0                     1  \n",
              "3                        0                     0                     1  \n",
              "4                        0                     1                     0  "
            ],
            "text/html": [
              "\n",
              "  <div id=\"df-e82b56b0-68b2-4e8a-9937-84b3e8d4676c\">\n",
              "    <div class=\"colab-df-container\">\n",
              "      <div>\n",
              "<style scoped>\n",
              "    .dataframe tbody tr th:only-of-type {\n",
              "        vertical-align: middle;\n",
              "    }\n",
              "\n",
              "    .dataframe tbody tr th {\n",
              "        vertical-align: top;\n",
              "    }\n",
              "\n",
              "    .dataframe thead th {\n",
              "        text-align: right;\n",
              "    }\n",
              "</style>\n",
              "<table border=\"1\" class=\"dataframe\">\n",
              "  <thead>\n",
              "    <tr style=\"text-align: right;\">\n",
              "      <th></th>\n",
              "      <th>Balance</th>\n",
              "      <th>Vintage</th>\n",
              "      <th>Transaction_Status</th>\n",
              "      <th>Credit_Card</th>\n",
              "      <th>Is_Churn</th>\n",
              "      <th>Gender_Female</th>\n",
              "      <th>Gender_Male</th>\n",
              "      <th>Income_10L - 15L</th>\n",
              "      <th>Income_5L - 10L</th>\n",
              "      <th>Income_Less than 5L</th>\n",
              "      <th>Income_More than 15L</th>\n",
              "      <th>Product_Holdings_1</th>\n",
              "      <th>Product_Holdings_2</th>\n",
              "      <th>Credit_Category_Average</th>\n",
              "      <th>Credit_Category_Good</th>\n",
              "      <th>Credit_Category_Poor</th>\n",
              "    </tr>\n",
              "  </thead>\n",
              "  <tbody>\n",
              "    <tr>\n",
              "      <th>0</th>\n",
              "      <td>0.23</td>\n",
              "      <td>0.8</td>\n",
              "      <td>0</td>\n",
              "      <td>0</td>\n",
              "      <td>1</td>\n",
              "      <td>1</td>\n",
              "      <td>0</td>\n",
              "      <td>0</td>\n",
              "      <td>1</td>\n",
              "      <td>0</td>\n",
              "      <td>0</td>\n",
              "      <td>1</td>\n",
              "      <td>0</td>\n",
              "      <td>1</td>\n",
              "      <td>0</td>\n",
              "      <td>0</td>\n",
              "    </tr>\n",
              "    <tr>\n",
              "      <th>1</th>\n",
              "      <td>0.36</td>\n",
              "      <td>0.4</td>\n",
              "      <td>1</td>\n",
              "      <td>1</td>\n",
              "      <td>0</td>\n",
              "      <td>1</td>\n",
              "      <td>0</td>\n",
              "      <td>0</td>\n",
              "      <td>0</td>\n",
              "      <td>1</td>\n",
              "      <td>0</td>\n",
              "      <td>1</td>\n",
              "      <td>0</td>\n",
              "      <td>0</td>\n",
              "      <td>0</td>\n",
              "      <td>1</td>\n",
              "    </tr>\n",
              "    <tr>\n",
              "      <th>2</th>\n",
              "      <td>0.29</td>\n",
              "      <td>0.4</td>\n",
              "      <td>1</td>\n",
              "      <td>0</td>\n",
              "      <td>0</td>\n",
              "      <td>1</td>\n",
              "      <td>0</td>\n",
              "      <td>0</td>\n",
              "      <td>0</td>\n",
              "      <td>0</td>\n",
              "      <td>1</td>\n",
              "      <td>0</td>\n",
              "      <td>1</td>\n",
              "      <td>0</td>\n",
              "      <td>0</td>\n",
              "      <td>1</td>\n",
              "    </tr>\n",
              "    <tr>\n",
              "      <th>3</th>\n",
              "      <td>0.57</td>\n",
              "      <td>0.0</td>\n",
              "      <td>1</td>\n",
              "      <td>1</td>\n",
              "      <td>1</td>\n",
              "      <td>1</td>\n",
              "      <td>0</td>\n",
              "      <td>0</td>\n",
              "      <td>0</td>\n",
              "      <td>0</td>\n",
              "      <td>1</td>\n",
              "      <td>0</td>\n",
              "      <td>1</td>\n",
              "      <td>0</td>\n",
              "      <td>0</td>\n",
              "      <td>1</td>\n",
              "    </tr>\n",
              "    <tr>\n",
              "      <th>4</th>\n",
              "      <td>0.37</td>\n",
              "      <td>0.2</td>\n",
              "      <td>1</td>\n",
              "      <td>1</td>\n",
              "      <td>1</td>\n",
              "      <td>1</td>\n",
              "      <td>0</td>\n",
              "      <td>0</td>\n",
              "      <td>0</td>\n",
              "      <td>0</td>\n",
              "      <td>1</td>\n",
              "      <td>1</td>\n",
              "      <td>0</td>\n",
              "      <td>0</td>\n",
              "      <td>1</td>\n",
              "      <td>0</td>\n",
              "    </tr>\n",
              "  </tbody>\n",
              "</table>\n",
              "</div>\n",
              "      <button class=\"colab-df-convert\" onclick=\"convertToInteractive('df-e82b56b0-68b2-4e8a-9937-84b3e8d4676c')\"\n",
              "              title=\"Convert this dataframe to an interactive table.\"\n",
              "              style=\"display:none;\">\n",
              "        \n",
              "  <svg xmlns=\"http://www.w3.org/2000/svg\" height=\"24px\"viewBox=\"0 0 24 24\"\n",
              "       width=\"24px\">\n",
              "    <path d=\"M0 0h24v24H0V0z\" fill=\"none\"/>\n",
              "    <path d=\"M18.56 5.44l.94 2.06.94-2.06 2.06-.94-2.06-.94-.94-2.06-.94 2.06-2.06.94zm-11 1L8.5 8.5l.94-2.06 2.06-.94-2.06-.94L8.5 2.5l-.94 2.06-2.06.94zm10 10l.94 2.06.94-2.06 2.06-.94-2.06-.94-.94-2.06-.94 2.06-2.06.94z\"/><path d=\"M17.41 7.96l-1.37-1.37c-.4-.4-.92-.59-1.43-.59-.52 0-1.04.2-1.43.59L10.3 9.45l-7.72 7.72c-.78.78-.78 2.05 0 2.83L4 21.41c.39.39.9.59 1.41.59.51 0 1.02-.2 1.41-.59l7.78-7.78 2.81-2.81c.8-.78.8-2.07 0-2.86zM5.41 20L4 18.59l7.72-7.72 1.47 1.35L5.41 20z\"/>\n",
              "  </svg>\n",
              "      </button>\n",
              "      \n",
              "  <style>\n",
              "    .colab-df-container {\n",
              "      display:flex;\n",
              "      flex-wrap:wrap;\n",
              "      gap: 12px;\n",
              "    }\n",
              "\n",
              "    .colab-df-convert {\n",
              "      background-color: #E8F0FE;\n",
              "      border: none;\n",
              "      border-radius: 50%;\n",
              "      cursor: pointer;\n",
              "      display: none;\n",
              "      fill: #1967D2;\n",
              "      height: 32px;\n",
              "      padding: 0 0 0 0;\n",
              "      width: 32px;\n",
              "    }\n",
              "\n",
              "    .colab-df-convert:hover {\n",
              "      background-color: #E2EBFA;\n",
              "      box-shadow: 0px 1px 2px rgba(60, 64, 67, 0.3), 0px 1px 3px 1px rgba(60, 64, 67, 0.15);\n",
              "      fill: #174EA6;\n",
              "    }\n",
              "\n",
              "    [theme=dark] .colab-df-convert {\n",
              "      background-color: #3B4455;\n",
              "      fill: #D2E3FC;\n",
              "    }\n",
              "\n",
              "    [theme=dark] .colab-df-convert:hover {\n",
              "      background-color: #434B5C;\n",
              "      box-shadow: 0px 1px 3px 1px rgba(0, 0, 0, 0.15);\n",
              "      filter: drop-shadow(0px 1px 2px rgba(0, 0, 0, 0.3));\n",
              "      fill: #FFFFFF;\n",
              "    }\n",
              "  </style>\n",
              "\n",
              "      <script>\n",
              "        const buttonEl =\n",
              "          document.querySelector('#df-e82b56b0-68b2-4e8a-9937-84b3e8d4676c button.colab-df-convert');\n",
              "        buttonEl.style.display =\n",
              "          google.colab.kernel.accessAllowed ? 'block' : 'none';\n",
              "\n",
              "        async function convertToInteractive(key) {\n",
              "          const element = document.querySelector('#df-e82b56b0-68b2-4e8a-9937-84b3e8d4676c');\n",
              "          const dataTable =\n",
              "            await google.colab.kernel.invokeFunction('convertToInteractive',\n",
              "                                                     [key], {});\n",
              "          if (!dataTable) return;\n",
              "\n",
              "          const docLinkHtml = 'Like what you see? Visit the ' +\n",
              "            '<a target=\"_blank\" href=https://colab.research.google.com/notebooks/data_table.ipynb>data table notebook</a>'\n",
              "            + ' to learn more about interactive tables.';\n",
              "          element.innerHTML = '';\n",
              "          dataTable['output_type'] = 'display_data';\n",
              "          await google.colab.output.renderOutput(dataTable, element);\n",
              "          const docLink = document.createElement('div');\n",
              "          docLink.innerHTML = docLinkHtml;\n",
              "          element.appendChild(docLink);\n",
              "        }\n",
              "      </script>\n",
              "    </div>\n",
              "  </div>\n",
              "  "
            ]
          },
          "metadata": {},
          "execution_count": 18
        }
      ]
    },
    {
      "cell_type": "code",
      "source": [
        "test_data.head()"
      ],
      "metadata": {
        "colab": {
          "base_uri": "https://localhost:8080/",
          "height": 288
        },
        "id": "KXbKc3fS1Ki8",
        "outputId": "a5345dd8-e7c9-483c-f7ef-b29e321a56d8"
      },
      "execution_count": null,
      "outputs": [
        {
          "output_type": "execute_result",
          "data": {
            "text/plain": [
              "   Balance  Vintage  Transaction_Status  Credit_Card  Gender_Female  \\\n",
              "0     0.41      0.4                   1            1              1   \n",
              "1     0.14      0.4                   0            1              0   \n",
              "2     0.18      0.0                   0            1              1   \n",
              "3     0.01      0.0                   1            1              0   \n",
              "4     0.45      0.4                   1            0              0   \n",
              "\n",
              "   Gender_Male  Income_10L - 15L  Income_5L - 10L  Income_Less than 5L  \\\n",
              "0            0                 0                0                    0   \n",
              "1            1                 0                1                    0   \n",
              "2            0                 1                0                    0   \n",
              "3            1                 0                0                    1   \n",
              "4            1                 0                0                    0   \n",
              "\n",
              "   Income_More than 15L  Product_Holdings_1  Product_Holdings_2  \\\n",
              "0                     1                   0                   1   \n",
              "1                     0                   0                   1   \n",
              "2                     0                   0                   1   \n",
              "3                     0                   0                   1   \n",
              "4                     1                   0                   1   \n",
              "\n",
              "   Credit_Category_Average  Credit_Category_Good  Credit_Category_Poor  \n",
              "0                        1                     0                     0  \n",
              "1                        1                     0                     0  \n",
              "2                        0                     1                     0  \n",
              "3                        0                     0                     1  \n",
              "4                        0                     1                     0  "
            ],
            "text/html": [
              "\n",
              "  <div id=\"df-65de8a1f-04dc-4eeb-8b1b-2a158d973542\">\n",
              "    <div class=\"colab-df-container\">\n",
              "      <div>\n",
              "<style scoped>\n",
              "    .dataframe tbody tr th:only-of-type {\n",
              "        vertical-align: middle;\n",
              "    }\n",
              "\n",
              "    .dataframe tbody tr th {\n",
              "        vertical-align: top;\n",
              "    }\n",
              "\n",
              "    .dataframe thead th {\n",
              "        text-align: right;\n",
              "    }\n",
              "</style>\n",
              "<table border=\"1\" class=\"dataframe\">\n",
              "  <thead>\n",
              "    <tr style=\"text-align: right;\">\n",
              "      <th></th>\n",
              "      <th>Balance</th>\n",
              "      <th>Vintage</th>\n",
              "      <th>Transaction_Status</th>\n",
              "      <th>Credit_Card</th>\n",
              "      <th>Gender_Female</th>\n",
              "      <th>Gender_Male</th>\n",
              "      <th>Income_10L - 15L</th>\n",
              "      <th>Income_5L - 10L</th>\n",
              "      <th>Income_Less than 5L</th>\n",
              "      <th>Income_More than 15L</th>\n",
              "      <th>Product_Holdings_1</th>\n",
              "      <th>Product_Holdings_2</th>\n",
              "      <th>Credit_Category_Average</th>\n",
              "      <th>Credit_Category_Good</th>\n",
              "      <th>Credit_Category_Poor</th>\n",
              "    </tr>\n",
              "  </thead>\n",
              "  <tbody>\n",
              "    <tr>\n",
              "      <th>0</th>\n",
              "      <td>0.41</td>\n",
              "      <td>0.4</td>\n",
              "      <td>1</td>\n",
              "      <td>1</td>\n",
              "      <td>1</td>\n",
              "      <td>0</td>\n",
              "      <td>0</td>\n",
              "      <td>0</td>\n",
              "      <td>0</td>\n",
              "      <td>1</td>\n",
              "      <td>0</td>\n",
              "      <td>1</td>\n",
              "      <td>1</td>\n",
              "      <td>0</td>\n",
              "      <td>0</td>\n",
              "    </tr>\n",
              "    <tr>\n",
              "      <th>1</th>\n",
              "      <td>0.14</td>\n",
              "      <td>0.4</td>\n",
              "      <td>0</td>\n",
              "      <td>1</td>\n",
              "      <td>0</td>\n",
              "      <td>1</td>\n",
              "      <td>0</td>\n",
              "      <td>1</td>\n",
              "      <td>0</td>\n",
              "      <td>0</td>\n",
              "      <td>0</td>\n",
              "      <td>1</td>\n",
              "      <td>1</td>\n",
              "      <td>0</td>\n",
              "      <td>0</td>\n",
              "    </tr>\n",
              "    <tr>\n",
              "      <th>2</th>\n",
              "      <td>0.18</td>\n",
              "      <td>0.0</td>\n",
              "      <td>0</td>\n",
              "      <td>1</td>\n",
              "      <td>1</td>\n",
              "      <td>0</td>\n",
              "      <td>1</td>\n",
              "      <td>0</td>\n",
              "      <td>0</td>\n",
              "      <td>0</td>\n",
              "      <td>0</td>\n",
              "      <td>1</td>\n",
              "      <td>0</td>\n",
              "      <td>1</td>\n",
              "      <td>0</td>\n",
              "    </tr>\n",
              "    <tr>\n",
              "      <th>3</th>\n",
              "      <td>0.01</td>\n",
              "      <td>0.0</td>\n",
              "      <td>1</td>\n",
              "      <td>1</td>\n",
              "      <td>0</td>\n",
              "      <td>1</td>\n",
              "      <td>0</td>\n",
              "      <td>0</td>\n",
              "      <td>1</td>\n",
              "      <td>0</td>\n",
              "      <td>0</td>\n",
              "      <td>1</td>\n",
              "      <td>0</td>\n",
              "      <td>0</td>\n",
              "      <td>1</td>\n",
              "    </tr>\n",
              "    <tr>\n",
              "      <th>4</th>\n",
              "      <td>0.45</td>\n",
              "      <td>0.4</td>\n",
              "      <td>1</td>\n",
              "      <td>0</td>\n",
              "      <td>0</td>\n",
              "      <td>1</td>\n",
              "      <td>0</td>\n",
              "      <td>0</td>\n",
              "      <td>0</td>\n",
              "      <td>1</td>\n",
              "      <td>0</td>\n",
              "      <td>1</td>\n",
              "      <td>0</td>\n",
              "      <td>1</td>\n",
              "      <td>0</td>\n",
              "    </tr>\n",
              "  </tbody>\n",
              "</table>\n",
              "</div>\n",
              "      <button class=\"colab-df-convert\" onclick=\"convertToInteractive('df-65de8a1f-04dc-4eeb-8b1b-2a158d973542')\"\n",
              "              title=\"Convert this dataframe to an interactive table.\"\n",
              "              style=\"display:none;\">\n",
              "        \n",
              "  <svg xmlns=\"http://www.w3.org/2000/svg\" height=\"24px\"viewBox=\"0 0 24 24\"\n",
              "       width=\"24px\">\n",
              "    <path d=\"M0 0h24v24H0V0z\" fill=\"none\"/>\n",
              "    <path d=\"M18.56 5.44l.94 2.06.94-2.06 2.06-.94-2.06-.94-.94-2.06-.94 2.06-2.06.94zm-11 1L8.5 8.5l.94-2.06 2.06-.94-2.06-.94L8.5 2.5l-.94 2.06-2.06.94zm10 10l.94 2.06.94-2.06 2.06-.94-2.06-.94-.94-2.06-.94 2.06-2.06.94z\"/><path d=\"M17.41 7.96l-1.37-1.37c-.4-.4-.92-.59-1.43-.59-.52 0-1.04.2-1.43.59L10.3 9.45l-7.72 7.72c-.78.78-.78 2.05 0 2.83L4 21.41c.39.39.9.59 1.41.59.51 0 1.02-.2 1.41-.59l7.78-7.78 2.81-2.81c.8-.78.8-2.07 0-2.86zM5.41 20L4 18.59l7.72-7.72 1.47 1.35L5.41 20z\"/>\n",
              "  </svg>\n",
              "      </button>\n",
              "      \n",
              "  <style>\n",
              "    .colab-df-container {\n",
              "      display:flex;\n",
              "      flex-wrap:wrap;\n",
              "      gap: 12px;\n",
              "    }\n",
              "\n",
              "    .colab-df-convert {\n",
              "      background-color: #E8F0FE;\n",
              "      border: none;\n",
              "      border-radius: 50%;\n",
              "      cursor: pointer;\n",
              "      display: none;\n",
              "      fill: #1967D2;\n",
              "      height: 32px;\n",
              "      padding: 0 0 0 0;\n",
              "      width: 32px;\n",
              "    }\n",
              "\n",
              "    .colab-df-convert:hover {\n",
              "      background-color: #E2EBFA;\n",
              "      box-shadow: 0px 1px 2px rgba(60, 64, 67, 0.3), 0px 1px 3px 1px rgba(60, 64, 67, 0.15);\n",
              "      fill: #174EA6;\n",
              "    }\n",
              "\n",
              "    [theme=dark] .colab-df-convert {\n",
              "      background-color: #3B4455;\n",
              "      fill: #D2E3FC;\n",
              "    }\n",
              "\n",
              "    [theme=dark] .colab-df-convert:hover {\n",
              "      background-color: #434B5C;\n",
              "      box-shadow: 0px 1px 3px 1px rgba(0, 0, 0, 0.15);\n",
              "      filter: drop-shadow(0px 1px 2px rgba(0, 0, 0, 0.3));\n",
              "      fill: #FFFFFF;\n",
              "    }\n",
              "  </style>\n",
              "\n",
              "      <script>\n",
              "        const buttonEl =\n",
              "          document.querySelector('#df-65de8a1f-04dc-4eeb-8b1b-2a158d973542 button.colab-df-convert');\n",
              "        buttonEl.style.display =\n",
              "          google.colab.kernel.accessAllowed ? 'block' : 'none';\n",
              "\n",
              "        async function convertToInteractive(key) {\n",
              "          const element = document.querySelector('#df-65de8a1f-04dc-4eeb-8b1b-2a158d973542');\n",
              "          const dataTable =\n",
              "            await google.colab.kernel.invokeFunction('convertToInteractive',\n",
              "                                                     [key], {});\n",
              "          if (!dataTable) return;\n",
              "\n",
              "          const docLinkHtml = 'Like what you see? Visit the ' +\n",
              "            '<a target=\"_blank\" href=https://colab.research.google.com/notebooks/data_table.ipynb>data table notebook</a>'\n",
              "            + ' to learn more about interactive tables.';\n",
              "          element.innerHTML = '';\n",
              "          dataTable['output_type'] = 'display_data';\n",
              "          await google.colab.output.renderOutput(dataTable, element);\n",
              "          const docLink = document.createElement('div');\n",
              "          docLink.innerHTML = docLinkHtml;\n",
              "          element.appendChild(docLink);\n",
              "        }\n",
              "      </script>\n",
              "    </div>\n",
              "  </div>\n",
              "  "
            ]
          },
          "metadata": {},
          "execution_count": 19
        }
      ]
    },
    {
      "cell_type": "markdown",
      "source": [
        "**Spliting the features and class**"
      ],
      "metadata": {
        "id": "ItL-MeUROTZF"
      }
    },
    {
      "cell_type": "code",
      "source": [
        "X_train= train_data.drop(columns=['Is_Churn'],axis=1)\n",
        "Y_train= train_data['Is_Churn']"
      ],
      "metadata": {
        "id": "ouir7heZnyv0"
      },
      "execution_count": null,
      "outputs": []
    },
    {
      "cell_type": "markdown",
      "source": [
        "**DATA UPSAMPLING USING SMOTE**"
      ],
      "metadata": {
        "id": "1x60LEGtOfVf"
      }
    },
    {
      "cell_type": "code",
      "source": [
        "oversample = SMOTE()\n",
        "X, y = oversample.fit_resample(X_train, Y_train)"
      ],
      "metadata": {
        "id": "ogw-fn-43XeQ"
      },
      "execution_count": null,
      "outputs": []
    },
    {
      "cell_type": "code",
      "source": [
        "X.shape,y.shape"
      ],
      "metadata": {
        "colab": {
          "base_uri": "https://localhost:8080/"
        },
        "id": "sh21xglk1T2E",
        "outputId": "8b31501e-cf11-4b2e-a2ae-4ff3faeef749"
      },
      "execution_count": null,
      "outputs": [
        {
          "output_type": "execute_result",
          "data": {
            "text/plain": [
              "((10226, 15), (10226,))"
            ]
          },
          "metadata": {},
          "execution_count": 22
        }
      ]
    },
    {
      "cell_type": "code",
      "source": [
        "y.value_counts()"
      ],
      "metadata": {
        "colab": {
          "base_uri": "https://localhost:8080/"
        },
        "id": "Cr5J9Fgy_6uR",
        "outputId": "c8c2c567-994c-4fe0-f9c1-38212605c50e"
      },
      "execution_count": null,
      "outputs": [
        {
          "output_type": "execute_result",
          "data": {
            "text/plain": [
              "1    5113\n",
              "0    5113\n",
              "Name: Is_Churn, dtype: int64"
            ]
          },
          "metadata": {},
          "execution_count": 23
        }
      ]
    },
    {
      "cell_type": "code",
      "source": [
        "plt.figure(figsize=(8,5))\n",
        "sns.countplot(y,palette='spring')\n",
        "plt.show()"
      ],
      "metadata": {
        "id": "kEqdv7-bOxus",
        "colab": {
          "base_uri": "https://localhost:8080/",
          "height": 335
        },
        "outputId": "92b20c44-c154-42fc-b648-9c5580f802b4"
      },
      "execution_count": null,
      "outputs": [
        {
          "output_type": "display_data",
          "data": {
            "text/plain": [
              "<Figure size 576x360 with 1 Axes>"
            ],
            "image/png": "[encoded data removed]"
          },
          "metadata": {
            "needs_background": "light"
          }
        }
      ]
    },
    {
      "cell_type": "markdown",
      "source": [
        "Now we have equal count of both the class 0 and 1. We are good to go for modelling."
      ],
      "metadata": {
        "id": "Hj0-6AlwOogW"
      }
    },
    {
      "cell_type": "markdown",
      "source": [
        "**PCA**"
      ],
      "metadata": {
        "id": "u-4SdcOax7Na"
      }
    },
    {
      "cell_type": "code",
      "source": [
        "n_com= 2\n",
        "pca_model= PCA(n_components=n_com)\n",
        "pca_matrix_train= pca_model.fit_transform(X)\n",
        "pca_matrix_test= pca_model.transform(test_data)"
      ],
      "metadata": {
        "id": "CFW5YBbmx5xa"
      },
      "execution_count": null,
      "outputs": []
    },
    {
      "cell_type": "code",
      "source": [
        "train_with_pca= pd.concat([X,pd.DataFrame(pca_matrix_train,columns=['PC-{}'.format(i) for i in range(0,n_com)])],axis=1)\n",
        "test_with_pca= pd.concat([test_data,pd.DataFrame(pca_matrix_test,columns=['PC-{}'.format(i) for i in range(0,n_com)])],axis=1)"
      ],
      "metadata": {
        "id": "acpoltHYz83_"
      },
      "execution_count": null,
      "outputs": []
    },
    {
      "cell_type": "code",
      "source": [
        "x_new= train_with_pca\n",
        "y_new= y"
      ],
      "metadata": {
        "id": "ud6aBAPF2twt"
      },
      "execution_count": null,
      "outputs": []
    },
    {
      "cell_type": "code",
      "source": [
        "x_new.shape,y_new.shape"
      ],
      "metadata": {
        "colab": {
          "base_uri": "https://localhost:8080/"
        },
        "id": "u4UlwSaz7wOE",
        "outputId": "c0441149-e841-43fd-b371-0acc98509dfa"
      },
      "execution_count": null,
      "outputs": [
        {
          "output_type": "execute_result",
          "data": {
            "text/plain": [
              "((10226, 17), (10226,))"
            ]
          },
          "metadata": {},
          "execution_count": 28
        }
      ]
    },
    {
      "cell_type": "markdown",
      "source": [
        "**Cross_Validation and Hyper Parameter Tuning**"
      ],
      "metadata": {
        "id": "Ft5_rTRPLYXu"
      }
    },
    {
      "cell_type": "code",
      "source": [
        "#\"max_depth\":[5,10,15,20,25,30],\n",
        "classifier= RandomForestClassifier()\n",
        "param= {\"n_estimators\":[50,100,150,200],\n",
        "        \"max_features\": [\"auto\",\"sqrt\",\"log2\"],\n",
        "        \"class_weight\": [\"balanced\",\"balanced_subsample\"],\n",
        "        \"max_samples\":[0.2,0.4,0.6,0.8,1.0]    \n",
        "}\n",
        "gsv= GridSearchCV(estimator=classifier,param_grid= param, cv=5 , n_jobs=-1)\n",
        "gsv.fit(x_new,y_new)"
      ],
      "metadata": {
        "colab": {
          "base_uri": "https://localhost:8080/"
        },
        "id": "LFsF7cQ31vqj",
        "outputId": "0ba68f5f-5904-40ea-966d-f1b127db591c"
      },
      "execution_count": null,
      "outputs": [
        {
          "output_type": "execute_result",
          "data": {
            "text/plain": [
              "GridSearchCV(cv=5, estimator=RandomForestClassifier(), n_jobs=-1,\n",
              "             param_grid={'class_weight': ['balanced', 'balanced_subsample'],\n",
              "                         'max_features': ['auto', 'sqrt', 'log2'],\n",
              "                         'max_samples': [0.2, 0.4, 0.6, 0.8, 1.0],\n",
              "                         'n_estimators': [50, 100, 150, 200]})"
            ]
          },
          "metadata": {},
          "execution_count": 44
        }
      ]
    },
    {
      "cell_type": "code",
      "source": [
        "print(gsv.best_params_)\n",
        "print(gsv.best_score_)"
      ],
      "metadata": {
        "colab": {
          "base_uri": "https://localhost:8080/"
        },
        "id": "sIh5gFic8mKb",
        "outputId": "739c719a-a525-4788-b595-32b555d5debf"
      },
      "execution_count": null,
      "outputs": [
        {
          "output_type": "stream",
          "name": "stdout",
          "text": [
            "{'class_weight': 'balanced_subsample', 'max_features': 'sqrt', 'max_samples': 0.4, 'n_estimators': 200}\n",
            "0.7393022583274181\n"
          ]
        }
      ]
    },
    {
      "cell_type": "markdown",
      "source": [
        "\n",
        "**Modelling**"
      ],
      "metadata": {
        "id": "w0tCpIKCN1A_"
      }
    },
    {
      "cell_type": "code",
      "source": [
        "model= RandomForestClassifier(n_estimators=200,max_samples=0.4,random_state=2,max_features='sqrt',class_weight='balanced_subsample')\n",
        "model.fit(x_new,y_new)"
      ],
      "metadata": {
        "colab": {
          "base_uri": "https://localhost:8080/"
        },
        "id": "QKkKwgBDDfm2",
        "outputId": "a50f13d2-bd1f-44bb-b123-7caf3870b51a"
      },
      "execution_count": null,
      "outputs": [
        {
          "output_type": "execute_result",
          "data": {
            "text/plain": [
              "RandomForestClassifier(class_weight='balanced_subsample', max_features='sqrt',\n",
              "                       max_samples=0.4, n_estimators=200, random_state=2)"
            ]
          },
          "metadata": {},
          "execution_count": 46
        }
      ]
    },
    {
      "cell_type": "markdown",
      "source": [
        "**Evaluation**"
      ],
      "metadata": {
        "id": "H16lC03-NgSI"
      }
    },
    {
      "cell_type": "code",
      "source": [
        "y_pred_train= model.predict_proba(x_new)\n",
        "y_predict=[]\n",
        "for i in y_pred_train:\n",
        "  y_predict.append(i[1])"
      ],
      "metadata": {
        "id": "O3h0Zgs3Pt3o"
      },
      "execution_count": null,
      "outputs": []
    },
    {
      "cell_type": "code",
      "source": [
        "precision,recall,thresholds = precision_recall_curve(y_new,y_predict)\n",
        "fscore= (2*precision*recall)/(precision+recall)\n",
        "index= np.argmax(fscore)\n",
        "print(\"index : \" + str(index))\n",
        "threshold_value= np.round(thresholds[index],2)\n",
        "print(\"threshold_value : \" + str(threshold_value))\n",
        "\n",
        "pred_y=[]\n",
        "for i in y_predict:\n",
        "  if i>=threshold_value:\n",
        "    pred_y.append(1)\n",
        "  else:\n",
        "    pred_y.append(0)\n",
        "\n",
        "f1score_train= f1_score(y_new, pred_y,average='macro')\n",
        "print(\"f1score_train : \" + str(f1score_train))"
      ],
      "metadata": {
        "id": "1r4-62nOCR6t",
        "colab": {
          "base_uri": "https://localhost:8080/"
        },
        "outputId": "aa9aa832-5c92-4909-a4f6-6bd538fe70cb"
      },
      "execution_count": null,
      "outputs": [
        {
          "output_type": "stream",
          "name": "stdout",
          "text": [
            "index : 711\n",
            "threshold_value : 0.5\n",
            "f1score_train : 0.9451387772468167\n"
          ]
        }
      ]
    },
    {
      "cell_type": "code",
      "source": [
        "print(classification_report(y_new,pred_y))"
      ],
      "metadata": {
        "colab": {
          "base_uri": "https://localhost:8080/"
        },
        "id": "BzOLUvnADUuZ",
        "outputId": "bc145be8-6ab9-4079-e68e-0038aa5adb78"
      },
      "execution_count": null,
      "outputs": [
        {
          "output_type": "stream",
          "name": "stdout",
          "text": [
            "              precision    recall  f1-score   support\n",
            "\n",
            "           0       0.95      0.94      0.94      5113\n",
            "           1       0.94      0.95      0.95      5113\n",
            "\n",
            "    accuracy                           0.95     10226\n",
            "   macro avg       0.95      0.95      0.95     10226\n",
            "weighted avg       0.95      0.95      0.95     10226\n",
            "\n"
          ]
        }
      ]
    },
    {
      "cell_type": "code",
      "source": [
        "plt.plot(recall,precision, marker='.',label='Train_data')\n",
        "plt.scatter(x=recall[index],y=precision[index], marker='o', color='black',linewidths=5, label='Best')\n",
        "plt.xlabel(\"Recall\")\n",
        "plt.ylabel(\"Precision\")\n",
        "plt.title(\"Precision_Recall_Curve on Train Data\")\n",
        "plt.legend(loc='lower left')\n",
        "plt.show()"
      ],
      "metadata": {
        "id": "1cAfNCmCEr-7",
        "colab": {
          "base_uri": "https://localhost:8080/",
          "height": 295
        },
        "outputId": "041307ee-ff53-4c9d-d33b-0e2cb9f4bc6b"
      },
      "execution_count": null,
      "outputs": [
        {
          "output_type": "display_data",
          "data": {
            "text/plain": [
              "<Figure size 432x288 with 1 Axes>"
            ],
            "image/png": "[encoded data removed]"
          },
          "metadata": {
            "needs_background": "light"
          }
        }
      ]
    },
    {
      "cell_type": "code",
      "source": [
        "matrix= confusion_matrix(y_new,pred_y)\n",
        "print(matrix)"
      ],
      "metadata": {
        "id": "P1ih7vjfERlN",
        "colab": {
          "base_uri": "https://localhost:8080/"
        },
        "outputId": "2bceb708-665a-4f3c-ad0d-ae42593a5106"
      },
      "execution_count": null,
      "outputs": [
        {
          "output_type": "stream",
          "name": "stdout",
          "text": [
            "[[4810  303]\n",
            " [ 258 4855]]\n"
          ]
        }
      ]
    },
    {
      "cell_type": "code",
      "source": [
        "axis= plt.subplot()\n",
        "sns.heatmap(matrix,fmt='d',annot=True,cmap='Pastel1',ax=axis)\n",
        "axis.set_title(\"Confusion Matrix on Train Data\")\n",
        "axis.set_xlabel(\"Predicted Class\")\n",
        "axis.set_ylabel(\"True Class\")\n",
        "axis.set_xticklabels([\"False\",\"True\"])\n",
        "axis.set_yticklabels([\"False\",\"True\"])\n",
        "plt.show()"
      ],
      "metadata": {
        "id": "fJxPzPpEEe7-",
        "colab": {
          "base_uri": "https://localhost:8080/",
          "height": 295
        },
        "outputId": "3f078d53-adf2-4712-a963-38499b5a5178"
      },
      "execution_count": null,
      "outputs": [
        {
          "output_type": "display_data",
          "data": {
            "text/plain": [
              "<Figure size 432x288 with 2 Axes>"
            ],
            "image/png": "[encoded data removed]"
          },
          "metadata": {
            "needs_background": "light"
          }
        }
      ]
    },
    {
      "cell_type": "code",
      "source": [
        "test_predictions = model.predict_proba(test_with_pca)\n",
        "y_predict_test=[]\n",
        "for i in test_predictions:\n",
        "  y_predict_test.append(i[1])\n",
        "y_test=[]\n",
        "for i in y_predict_test:\n",
        "  if i>=threshold_value:\n",
        "    y_test.append(1)\n",
        "  else:\n",
        "    y_test.append(0)"
      ],
      "metadata": {
        "id": "rCi3WJsjG0XK"
      },
      "execution_count": null,
      "outputs": []
    },
    {
      "cell_type": "code",
      "source": [
        "submission = pd.read_csv('sample_OoSmYo5.csv')\n",
        "submission['Is_Churn'] = y_test\n",
        "submission.to_csv('final_submission.csv', index=False)"
      ],
      "metadata": {
        "id": "kfYOXlFIHff4"
      },
      "execution_count": null,
      "outputs": []
    }
  ]
}